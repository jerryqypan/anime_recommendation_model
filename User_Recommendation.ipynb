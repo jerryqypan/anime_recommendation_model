{
 "cells": [
  {
   "cell_type": "code",
   "execution_count": 38,
   "metadata": {
    "collapsed": true
   },
   "outputs": [],
   "source": [
    "import numpy as np\n",
    "import pandas as pd\n",
    "from scipy.sparse import bsr_matrix\n",
    "import scipy"
   ]
  },
  {
   "cell_type": "code",
   "execution_count": 2,
   "metadata": {
    "collapsed": true,
    "scrolled": true
   },
   "outputs": [],
   "source": [
    "# user_embeddings = np.load(\"user_embeddings.npy\")\n",
    "# item_embeddings = np.load(\"item_embeddings.npy\")"
   ]
  },
  {
   "cell_type": "code",
   "execution_count": 89,
   "metadata": {},
   "outputs": [],
   "source": [
    "data = pd.read_csv('data/ratings.csv',names=[\"User\",\"Anime\",\"Rating\"])"
   ]
  },
  {
   "cell_type": "code",
   "execution_count": 59,
   "metadata": {
    "collapsed": true
   },
   "outputs": [],
   "source": [
    "data = data[data.User < 20000]"
   ]
  },
  {
   "cell_type": "code",
   "execution_count": 90,
   "metadata": {
    "collapsed": true
   },
   "outputs": [],
   "source": [
    "data = data.groupby(\"User\").filter(lambda x: len(x) > 300)"
   ]
  },
  {
   "cell_type": "code",
   "execution_count": 91,
   "metadata": {},
   "outputs": [
    {
     "data": {
      "text/plain": [
       "4418"
      ]
     },
     "execution_count": 91,
     "metadata": {},
     "output_type": "execute_result"
    }
   ],
   "source": [
    "len(data.User.unique())"
   ]
  },
  {
   "cell_type": "code",
   "execution_count": 74,
   "metadata": {},
   "outputs": [],
   "source": [
    "ratings = bsr_matrix((data[\"Rating\"], (data[\"Anime\"], data[\"User\"]))).toarray()"
   ]
  },
  {
   "cell_type": "code",
   "execution_count": 49,
   "metadata": {},
   "outputs": [
    {
     "name": "stdout",
     "output_type": "stream",
     "text": [
      "[[0 0 0 ... 0 0 0]\n",
      " [0 8 0 ... 0 0 0]\n",
      " [0 7 0 ... 8 0 0]\n",
      " ...\n",
      " [0 0 0 ... 0 0 0]\n",
      " [0 0 0 ... 0 0 0]\n",
      " [0 0 0 ... 0 0 0]]\n"
     ]
    }
   ],
   "source": [
    "print(ratings)"
   ]
  },
  {
   "cell_type": "code",
   "execution_count": 50,
   "metadata": {
    "collapsed": true
   },
   "outputs": [],
   "source": [
    "#ratings = np.matmul(user_embeddings,item_embeddings.T)"
   ]
  },
  {
   "cell_type": "code",
   "execution_count": 51,
   "metadata": {},
   "outputs": [],
   "source": [
    "#print(ratings.shape)"
   ]
  },
  {
   "cell_type": "code",
   "execution_count": 52,
   "metadata": {
    "collapsed": true
   },
   "outputs": [],
   "source": [
    "def compute_similarity(user_ratings,ratings):\n",
    "    \n",
    "    idx = np.where(user_ratings != 0)\n",
    "    p_avg = np.average(ratings,axis=1)\n",
    "    u_avg = np.average(user_ratings)\n",
    "    rated = ratings[:,idx[0]]\n",
    "    user_rated = user_ratings[idx[0]]\n",
    "    norm_rated = np.subtract(rated.T,p_avg)\n",
    "    norm_u = np.subtract(user_rated.T,u_avg)\n",
    "    sum_p_u = np.matmul(norm_rated.T,norm_u.T)\n",
    "    sum_p = np.power(norm_rated,2)\n",
    "    sum_u = np.power(norm_u,2)\n",
    "    dist = np.sqrt(np.sum(sum_p)*np.sum(sum_u))\n",
    "    sim = np.divide(sum_p_u,dist)\n",
    "    return sim\n",
    "\n",
    "def predict_ratings(user_ratings,ratings,sim):\n",
    "    #sim = compute_similarity(user_ratings,ratings)\n",
    "    idx = np.where(user_ratings == 0)\n",
    "    non_idx = np.where(user_ratings != 0)\n",
    "    avg = np.average(user_ratings[non_idx])\n",
    "    #print(idx)\n",
    "    user_rated = ratings[:,idx[0]]\n",
    "    #print(user_rated.shape)\n",
    "    predicted_ratings = np.zeros(user_rated.shape[1])\n",
    "    for i in np.arange(user_rated.shape[1]):\n",
    "        rated_idx = np.where(user_rated[:,i] != 0)\n",
    "        sim_rated = sim[rated_idx]\n",
    "        sim_rated = sim_rated.reshape((sim_rated.shape[0],1)).T\n",
    "        rated = user_rated[rated_idx,i].T\n",
    "        temp = np.matmul(sim_rated,rated)/sim_rated.shape[1]\n",
    "        predicted_ratings[i] = temp + avg\n",
    "    return predicted_ratings,idx\n",
    "\n",
    "    #print(rated.shape)"
   ]
  },
  {
   "cell_type": "code",
   "execution_count": 53,
   "metadata": {},
   "outputs": [
    {
     "name": "stdout",
     "output_type": "stream",
     "text": [
      "(3539,)\n"
     ]
    }
   ],
   "source": [
    "#test_rating = np.random.randint(0,11,size=item_embeddings.shape[0])\n",
    "test_rating = np.zeros(ratings.shape[0])\n",
    "for i in range(0,100):\n",
    "    test_rating[i] = 10\n",
    "print(test_rating.shape)"
   ]
  },
  {
   "cell_type": "code",
   "execution_count": 54,
   "metadata": {
    "collapsed": true
   },
   "outputs": [],
   "source": [
    "def topNAnime(user_ratings,ratings,n=10):\n",
    "    sim = compute_similarity(user_ratings,ratings)\n",
    "    predicted_ratings,idx = predict_ratings(user_ratings,ratings,sim)\n",
    "    old_idx = np.where(user_ratings != 0)\n",
    "    rating_tuple = [(predicted_ratings[i],idx[0][i]) for i in np.arange(predicted_ratings.shape[0])]\n",
    "    sorted_ratings = sorted(rating_tuple, key = lambda tup: tup[0],reverse=True)\n",
    "    topN = [i[1] for i in sorted_ratings[:n]]\n",
    "    return topN"
   ]
  },
  {
   "cell_type": "code",
   "execution_count": 55,
   "metadata": {},
   "outputs": [],
   "source": [
    "sorted_ratings = topNAnime(test_rating,ratings)"
   ]
  },
  {
   "cell_type": "code",
   "execution_count": 56,
   "metadata": {},
   "outputs": [
    {
     "name": "stdout",
     "output_type": "stream",
     "text": [
      "[2393, 676, 2505, 3424, 2772, 2218, 537, 3500, 2863, 1471]\n"
     ]
    }
   ],
   "source": [
    "print(sorted_ratings)"
   ]
  },
  {
   "cell_type": "code",
   "execution_count": 92,
   "metadata": {},
   "outputs": [],
   "source": [
    "scipy.sparse.save_npz('ratings.npz', bsr_matrix((data[\"Rating\"], (data[\"Anime\"], data[\"User\"]))))"
   ]
  },
  {
   "cell_type": "code",
   "execution_count": null,
   "metadata": {
    "collapsed": true
   },
   "outputs": [],
   "source": []
  }
 ],
 "metadata": {
  "kernelspec": {
   "display_name": "Python 3",
   "language": "python",
   "name": "python3"
  },
  "language_info": {
   "codemirror_mode": {
    "name": "ipython",
    "version": 3
   },
   "file_extension": ".py",
   "mimetype": "text/x-python",
   "name": "python",
   "nbconvert_exporter": "python",
   "pygments_lexer": "ipython3",
   "version": "3.6.1"
  }
 },
 "nbformat": 4,
 "nbformat_minor": 2
}
