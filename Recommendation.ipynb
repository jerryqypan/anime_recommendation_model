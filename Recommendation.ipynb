{
 "cells": [
  {
   "cell_type": "code",
   "execution_count": 1,
   "metadata": {},
   "outputs": [
    {
     "name": "stderr",
     "output_type": "stream",
     "text": [
      "C:\\Users\\Jerry\\AppData\\Roaming\\Python\\Python36\\site-packages\\h5py\\__init__.py:36: FutureWarning: Conversion of the second argument of issubdtype from `float` to `np.floating` is deprecated. In future, it will be treated as `np.float64 == np.dtype(float).type`.\n",
      "  from ._conv import register_converters as _register_converters\n",
      "Using TensorFlow backend.\n"
     ]
    },
    {
     "name": "stdout",
     "output_type": "stream",
     "text": [
      "WARNING:tensorflow:From c:\\users\\jerry\\appdata\\local\\programs\\python\\python36\\lib\\site-packages\\tensorflow\\contrib\\learn\\python\\learn\\datasets\\base.py:198: retry (from tensorflow.contrib.learn.python.learn.datasets.base) is deprecated and will be removed in a future version.\n",
      "Instructions for updating:\n",
      "Use the retry module or similar alternatives.\n"
     ]
    }
   ],
   "source": [
    "import numpy as np\n",
    "import keras\n",
    "from keras.models import Sequential, load_model"
   ]
  },
  {
   "cell_type": "code",
   "execution_count": 10,
   "metadata": {
    "collapsed": true
   },
   "outputs": [],
   "source": [
    "from IPython.display import SVG\n",
    "from keras.utils.vis_utils import model_to_dot\n",
    "import pydot"
   ]
  },
  {
   "cell_type": "code",
   "execution_count": 2,
   "metadata": {},
   "outputs": [
    {
     "name": "stdout",
     "output_type": "stream",
     "text": [
      "WARNING:tensorflow:From c:\\users\\jerry\\appdata\\local\\programs\\python\\python36\\lib\\site-packages\\keras\\backend\\tensorflow_backend.py:1188: calling reduce_sum (from tensorflow.python.ops.math_ops) with keep_dims is deprecated and will be removed in a future version.\n",
      "Instructions for updating:\n",
      "keep_dims is deprecated, use keepdims instead\n",
      "WARNING:tensorflow:From c:\\users\\jerry\\appdata\\local\\programs\\python\\python36\\lib\\site-packages\\keras\\backend\\tensorflow_backend.py:1290: calling reduce_mean (from tensorflow.python.ops.math_ops) with keep_dims is deprecated and will be removed in a future version.\n",
      "Instructions for updating:\n",
      "keep_dims is deprecated, use keepdims instead\n"
     ]
    }
   ],
   "source": [
    "model = load_model('recommendation.h5')"
   ]
  },
  {
   "cell_type": "code",
   "execution_count": 6,
   "metadata": {},
   "outputs": [
    {
     "data": {
      "image/svg+xml": [
       "<svg height=\"264pt\" viewBox=\"0.00 0.00 384.00 264.00\" width=\"384pt\" xmlns=\"http://www.w3.org/2000/svg\" xmlns:xlink=\"http://www.w3.org/1999/xlink\">\n",
       "<g class=\"graph\" id=\"graph0\" transform=\"scale(1 1) rotate(0) translate(4 260)\">\n",
       "<title>G</title>\n",
       "<polygon fill=\"white\" points=\"-4,4 -4,-260 380,-260 380,4 -4,4\" stroke=\"none\"/>\n",
       "<!-- 2436579141616 -->\n",
       "<g class=\"node\" id=\"node1\"><title>2436579141616</title>\n",
       "<polygon fill=\"none\" points=\"36,-219.5 36,-255.5 143,-255.5 143,-219.5 36,-219.5\" stroke=\"black\"/>\n",
       "<text font-family=\"Times New Roman,serif\" font-size=\"14.00\" text-anchor=\"middle\" x=\"89.5\" y=\"-233.8\">user: InputLayer</text>\n",
       "</g>\n",
       "<!-- 2436579142736 -->\n",
       "<g class=\"node\" id=\"node3\"><title>2436579142736</title>\n",
       "<polygon fill=\"none\" points=\"0,-146.5 0,-182.5 179,-182.5 179,-146.5 0,-146.5\" stroke=\"black\"/>\n",
       "<text font-family=\"Times New Roman,serif\" font-size=\"14.00\" text-anchor=\"middle\" x=\"89.5\" y=\"-160.8\">user_embedding: Embedding</text>\n",
       "</g>\n",
       "<!-- 2436579141616&#45;&gt;2436579142736 -->\n",
       "<g class=\"edge\" id=\"edge1\"><title>2436579141616-&gt;2436579142736</title>\n",
       "<path d=\"M89.5,-219.313C89.5,-211.289 89.5,-201.547 89.5,-192.569\" fill=\"none\" stroke=\"black\"/>\n",
       "<polygon fill=\"black\" points=\"93.0001,-192.529 89.5,-182.529 86.0001,-192.529 93.0001,-192.529\" stroke=\"black\"/>\n",
       "</g>\n",
       "<!-- 2436579141728 -->\n",
       "<g class=\"node\" id=\"node2\"><title>2436579141728</title>\n",
       "<polygon fill=\"none\" points=\"233,-219.5 233,-255.5 340,-255.5 340,-219.5 233,-219.5\" stroke=\"black\"/>\n",
       "<text font-family=\"Times New Roman,serif\" font-size=\"14.00\" text-anchor=\"middle\" x=\"286.5\" y=\"-233.8\">item: InputLayer</text>\n",
       "</g>\n",
       "<!-- 2436579142456 -->\n",
       "<g class=\"node\" id=\"node4\"><title>2436579142456</title>\n",
       "<polygon fill=\"none\" points=\"197,-146.5 197,-182.5 376,-182.5 376,-146.5 197,-146.5\" stroke=\"black\"/>\n",
       "<text font-family=\"Times New Roman,serif\" font-size=\"14.00\" text-anchor=\"middle\" x=\"286.5\" y=\"-160.8\">item_embedding: Embedding</text>\n",
       "</g>\n",
       "<!-- 2436579141728&#45;&gt;2436579142456 -->\n",
       "<g class=\"edge\" id=\"edge2\"><title>2436579141728-&gt;2436579142456</title>\n",
       "<path d=\"M286.5,-219.313C286.5,-211.289 286.5,-201.547 286.5,-192.569\" fill=\"none\" stroke=\"black\"/>\n",
       "<polygon fill=\"black\" points=\"290,-192.529 286.5,-182.529 283,-192.529 290,-192.529\" stroke=\"black\"/>\n",
       "</g>\n",
       "<!-- 2436579143576 -->\n",
       "<g class=\"node\" id=\"node5\"><title>2436579143576</title>\n",
       "<polygon fill=\"none\" points=\"50.5,-73.5 50.5,-109.5 178.5,-109.5 178.5,-73.5 50.5,-73.5\" stroke=\"black\"/>\n",
       "<text font-family=\"Times New Roman,serif\" font-size=\"14.00\" text-anchor=\"middle\" x=\"114.5\" y=\"-87.8\">reshape_1: Reshape</text>\n",
       "</g>\n",
       "<!-- 2436579142736&#45;&gt;2436579143576 -->\n",
       "<g class=\"edge\" id=\"edge3\"><title>2436579142736-&gt;2436579143576</title>\n",
       "<path d=\"M95.5518,-146.313C98.4384,-138.115 101.957,-128.123 105.174,-118.985\" fill=\"none\" stroke=\"black\"/>\n",
       "<polygon fill=\"black\" points=\"108.484,-120.124 108.504,-109.529 101.881,-117.799 108.484,-120.124\" stroke=\"black\"/>\n",
       "</g>\n",
       "<!-- 2436579143520 -->\n",
       "<g class=\"node\" id=\"node6\"><title>2436579143520</title>\n",
       "<polygon fill=\"none\" points=\"209.5,-73.5 209.5,-109.5 337.5,-109.5 337.5,-73.5 209.5,-73.5\" stroke=\"black\"/>\n",
       "<text font-family=\"Times New Roman,serif\" font-size=\"14.00\" text-anchor=\"middle\" x=\"273.5\" y=\"-87.8\">reshape_2: Reshape</text>\n",
       "</g>\n",
       "<!-- 2436579142456&#45;&gt;2436579143520 -->\n",
       "<g class=\"edge\" id=\"edge4\"><title>2436579142456-&gt;2436579143520</title>\n",
       "<path d=\"M283.353,-146.313C281.884,-138.289 280.1,-128.547 278.456,-119.569\" fill=\"none\" stroke=\"black\"/>\n",
       "<polygon fill=\"black\" points=\"281.862,-118.735 276.618,-109.529 274.976,-119.996 281.862,-118.735\" stroke=\"black\"/>\n",
       "</g>\n",
       "<!-- 2436579142288 -->\n",
       "<g class=\"node\" id=\"node7\"><title>2436579142288</title>\n",
       "<polygon fill=\"none\" points=\"155,-0.5 155,-36.5 232,-36.5 232,-0.5 155,-0.5\" stroke=\"black\"/>\n",
       "<text font-family=\"Times New Roman,serif\" font-size=\"14.00\" text-anchor=\"middle\" x=\"193.5\" y=\"-14.8\">dot_1: Dot</text>\n",
       "</g>\n",
       "<!-- 2436579143576&#45;&gt;2436579142288 -->\n",
       "<g class=\"edge\" id=\"edge5\"><title>2436579143576-&gt;2436579142288</title>\n",
       "<path d=\"M133.624,-73.3129C143.619,-64.3302 156.01,-53.1933 166.923,-43.3856\" fill=\"none\" stroke=\"black\"/>\n",
       "<polygon fill=\"black\" points=\"169.454,-45.8165 174.552,-36.5288 164.775,-40.6101 169.454,-45.8165\" stroke=\"black\"/>\n",
       "</g>\n",
       "<!-- 2436579143520&#45;&gt;2436579142288 -->\n",
       "<g class=\"edge\" id=\"edge6\"><title>2436579143520-&gt;2436579142288</title>\n",
       "<path d=\"M254.134,-73.3129C244.013,-64.3302 231.464,-53.1933 220.413,-43.3856\" fill=\"none\" stroke=\"black\"/>\n",
       "<polygon fill=\"black\" points=\"222.49,-40.549 212.687,-36.5288 217.843,-45.7845 222.49,-40.549\" stroke=\"black\"/>\n",
       "</g>\n",
       "</g>\n",
       "</svg>"
      ],
      "text/plain": [
       "<IPython.core.display.SVG object>"
      ]
     },
     "execution_count": 6,
     "metadata": {},
     "output_type": "execute_result"
    }
   ],
   "source": [
    "SVG(model_to_dot(model).create(prog='dot', format='svg'))"
   ]
  },
  {
   "cell_type": "code",
   "execution_count": 3,
   "metadata": {
    "collapsed": true
   },
   "outputs": [],
   "source": [
    "weights = model.get_weights()"
   ]
  },
  {
   "cell_type": "code",
   "execution_count": 4,
   "metadata": {
    "collapsed": true
   },
   "outputs": [],
   "source": [
    "user_embeddings = weights[0]\n",
    "item_embeddings = weights[1]"
   ]
  },
  {
   "cell_type": "code",
   "execution_count": 27,
   "metadata": {},
   "outputs": [
    {
     "name": "stdout",
     "output_type": "stream",
     "text": [
      "(3549, 30)\n"
     ]
    }
   ],
   "source": [
    "print(item_embeddings.shape)"
   ]
  },
  {
   "cell_type": "code",
   "execution_count": 5,
   "metadata": {
    "collapsed": true
   },
   "outputs": [],
   "source": [
    "EPSILON = 1e-07\n",
    "\n",
    "def cosine(x, y):\n",
    "    dot_pdt = np.dot(x, y.T)\n",
    "    norms = np.linalg.norm(x) * np.linalg.norm(y)\n",
    "    return dot_pdt / (norms + EPSILON)\n",
    "\n",
    "\n",
    "def cosine_similarities(x,embeddings):\n",
    "    dot_pdt = np.dot(embeddings, x)\n",
    "    norms = np.linalg.norm(x) * np.linalg.norm(embeddings,axis = 1)\n",
    "    return dot_pdt / (norms + EPSILON)\n",
    "\n",
    "# Computes euclidean distances between x and all item embeddings\n",
    "def euclidean_distances(x,embeddings):  \n",
    "    return np.linalg.norm(embeddings - x,axis=1)\n",
    "\n",
    "# Computes top_n most similar items to an idx\n",
    "def most_similar(idx, embeddings,top_n=10,euclidian= False):\n",
    "    if euclidian:\n",
    "        # eucliedian distance between idx and the rest\n",
    "        distance = euclidean_distances(embeddings[idx],embeddings)\n",
    "        order = (distance).argsort()\n",
    "        order= [x for x in order if x != idx]\n",
    "        order= order[:top_n]\n",
    "        return list( zip([x for x in order], distance[order]))\n",
    "    else: \n",
    "        # cosine similarity between idx and the rest\n",
    "        distance = cosine_similarities(embeddings[idx],embeddings)\n",
    "        order = (-distance).argsort()\n",
    "        order= [x for x in order if x != idx]\n",
    "        order= order[:top_n]\n",
    "        return list(zip([x for x in order], distance[order]))"
   ]
  },
  {
   "cell_type": "code",
   "execution_count": 7,
   "metadata": {},
   "outputs": [
    {
     "data": {
      "text/plain": [
       "[(665, 1.0),\n",
       " (435, 1.0),\n",
       " (662, 1.0),\n",
       " (430, 1.0),\n",
       " (340, 0.99999994),\n",
       " (664, 0.99999994),\n",
       " (54, 0.99999994),\n",
       " (1057, 0.99999994),\n",
       " (268, 0.9999999),\n",
       " (423, 0.9999999)]"
      ]
     },
     "execution_count": 7,
     "metadata": {},
     "output_type": "execute_result"
    }
   ],
   "source": [
    "most_similar(173,item_embeddings, top_n=10, euclidian=False)"
   ]
  },
  {
   "cell_type": "code",
   "execution_count": 8,
   "metadata": {
    "collapsed": true
   },
   "outputs": [],
   "source": [
    "np.save('user_embeddings',user_embeddings)"
   ]
  },
  {
   "cell_type": "code",
   "execution_count": 9,
   "metadata": {
    "collapsed": true
   },
   "outputs": [],
   "source": [
    "np.save('item_embeddings',item_embeddings)"
   ]
  },
  {
   "cell_type": "code",
   "execution_count": null,
   "metadata": {
    "collapsed": true
   },
   "outputs": [],
   "source": []
  }
 ],
 "metadata": {
  "kernelspec": {
   "display_name": "Python 3",
   "language": "python",
   "name": "python3"
  },
  "language_info": {
   "codemirror_mode": {
    "name": "ipython",
    "version": 3
   },
   "file_extension": ".py",
   "mimetype": "text/x-python",
   "name": "python",
   "nbconvert_exporter": "python",
   "pygments_lexer": "ipython3",
   "version": "3.6.1"
  }
 },
 "nbformat": 4,
 "nbformat_minor": 2
}
